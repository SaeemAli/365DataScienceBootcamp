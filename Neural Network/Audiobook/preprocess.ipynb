{
 "cells": [
  {
   "cell_type": "markdown",
   "metadata": {},
   "source": [
    "## Column Headings\n",
    "A: User ID <br>\n",
    "B: Book length_overall in minutes (The total length of all purchases for the user)<br>\n",
    "C: Book length_average in minutes (The average length of books bought by the user)<br>\n",
    "D: Price_overall (Total spent by the user)<br>\n",
    "E: Price_average (Average spent by users across all purchases)<br>\n",
    "F: Review (Yes (1) or No (0))<br>\n",
    "G: Review (Rating out of 10) # Defaults to 8.91 if the user didn't leave a review<br>\n",
    "H: Minutes listened (Across all the user's purchases)<br>\n",
    "I: Completion (Total minutes listened / book length_overall)<br>\n",
    "J: Support requests (How many times a user has made request for support)<br>\n",
    "K: Last visited minus purchase date (Different between their first purchase and their most recent interaction. Bigger is better)<br>\n",
    "L: Targets (Whether the user bought another book in the 6 months after this data was collected)<br><br>\n",
    "This data has been collected from 2 years of engagement with the audio book app."
   ]
  },
  {
   "cell_type": "markdown",
   "metadata": {},
   "source": [
    "Our task is to create a model which determines whether a customer will buy another book, thus determining whether we should focus on marketing the app to this user, ensuring the stay with the company."
   ]
  },
  {
   "cell_type": "markdown",
   "metadata": {},
   "source": [
    "## Imports"
   ]
  },
  {
   "cell_type": "code",
   "execution_count": 2,
   "metadata": {},
   "outputs": [],
   "source": [
    "import numpy as np\n",
    "from sklearn import preprocessing"
   ]
  },
  {
   "cell_type": "markdown",
   "metadata": {},
   "source": [
    "## Preprocessing\n",
    "\n",
    "1. Balance the dataset (Make sure the training data has an equal number of samples from each possible target)<br>\n",
    "2. Divide the dataset into training, validation and testing <br>\n",
    "3. Save the data in a tensor friendly format (npz)"
   ]
  },
  {
   "cell_type": "markdown",
   "metadata": {},
   "source": [
    "### Extract data from CSV file"
   ]
  },
  {
   "cell_type": "code",
   "execution_count": 3,
   "metadata": {},
   "outputs": [],
   "source": [
    "raw_csv_data = np.loadtxt('Audiobooks_data.csv', delimiter = ',') \n",
    "\n",
    "unscaled_inputs_all = raw_csv_data[:, 1:-1] # Takes every column except the first and last columns\n",
    "targets_all = raw_csv_data[:, -1] # Takes the last column of the CSV which are the targets"
   ]
  },
  {
   "cell_type": "markdown",
   "metadata": {},
   "source": [
    "### Balance the dataset"
   ]
  },
  {
   "cell_type": "code",
   "execution_count": 4,
   "metadata": {},
   "outputs": [],
   "source": [
    "num_one_targets = int(np.sum(targets_all)) # Count the number of targets which are 1. There are less 1's than 0's\n",
    "zero_targets_counter = 0\n",
    "indices_to_remove = []\n",
    "\n",
    "for i in range (targets_all.shape[0]): # Iterate over every target value\n",
    "    if targets_all[i] == 0:\n",
    "        zero_targets_counter += 1\n",
    "        if zero_targets_counter > num_one_targets: # Once we have the same number of 1's and 0's, we can remove the other samples\n",
    "            indices_to_remove.append(i)\n",
    "\n",
    "# Remove the samples we don't need for training\n",
    "unscaled_inputs_equal_priors = np.delete(unscaled_inputs_all, indices_to_remove, axis = 0)\n",
    "targets_equal_priors = np.delete(targets_all, indices_to_remove, axis = 0)"
   ]
  },
  {
   "cell_type": "markdown",
   "metadata": {},
   "source": [
    "### Standardize inputs"
   ]
  },
  {
   "cell_type": "code",
   "execution_count": 7,
   "metadata": {},
   "outputs": [],
   "source": [
    "scaled_inputs = preprocessing.scale(unscaled_inputs_equal_priors) # Standardizes all inputs in the array"
   ]
  },
  {
   "cell_type": "markdown",
   "metadata": {},
   "source": [
    "### Shuffle data"
   ]
  },
  {
   "cell_type": "code",
   "execution_count": 10,
   "metadata": {},
   "outputs": [],
   "source": [
    "shuffled_indices = np.arange(scaled_inputs.shape[0]) # Shape[0] takes the ID which is assigned by numpy automatically\n",
    "np.random.shuffle(shuffled_indices) # Shuffle the inputs\n",
    "\n",
    "# Make sure the inputs and targets are in the same order so the data is still correct by reordering them with the shuffled indices\n",
    "shuffled_inputs = scaled_inputs[shuffled_indices]\n",
    "shuffled_targets = targets_equal_priors[shuffled_indices]"
   ]
  },
  {
   "cell_type": "markdown",
   "metadata": {},
   "source": [
    "### Training, validation and testing"
   ]
  },
  {
   "cell_type": "code",
   "execution_count": 11,
   "metadata": {},
   "outputs": [],
   "source": [
    "sample_count = shuffled_inputs.shape[0]\n",
    "\n",
    "# 80% training, 10% validation, 10% testing\n",
    "train_samples_count = int(0.8 * sample_count)\n",
    "validation_samples_count = int(0.1 * sample_count)\n",
    "test_samples_count = sample_count - train_samples_count - validation_samples_count\n",
    "\n",
    "# Extract the samples into their sections\n",
    "train_inputs = shuffled_inputs[: train_samples_count] # Take samples from the start until it has 80% of the samples\n",
    "train_targets = shuffled_targets[: train_samples_count]\n",
    "\n",
    "validation_inputs = shuffled_inputs[train_samples_count : train_samples_count + validation_samples_count]\n",
    "validation_targets = shuffled_targets[train_samples_count : train_samples_count + validation_samples_count]\n",
    "\n",
    "test_inputs = shuffled_inputs[train_samples_count + validation_samples_count :]\n",
    "test_targets = shuffled_targets[train_samples_count + validation_samples_count :]"
   ]
  },
  {
   "cell_type": "markdown",
   "metadata": {},
   "source": [
    "### Save as npz"
   ]
  },
  {
   "cell_type": "code",
   "execution_count": null,
   "metadata": {},
   "outputs": [],
   "source": [
    "np.savez('Audiobooks_data_train', inputs = train_inputs, targets = train_targets)\n",
    "np.savez('Audiobooks_data_validation', inputs = validation_inputs, targets = validation_targets)\n",
    "np.savez('Audiobooks_data_test', inputs = test_inputs, targets = test_targets)"
   ]
  }
 ],
 "metadata": {
  "kernelspec": {
   "display_name": "Python 3",
   "language": "python",
   "name": "python3"
  },
  "language_info": {
   "codemirror_mode": {
    "name": "ipython",
    "version": 3
   },
   "file_extension": ".py",
   "mimetype": "text/x-python",
   "name": "python",
   "nbconvert_exporter": "python",
   "pygments_lexer": "ipython3",
   "version": "3.10.11"
  },
  "orig_nbformat": 4
 },
 "nbformat": 4,
 "nbformat_minor": 2
}
